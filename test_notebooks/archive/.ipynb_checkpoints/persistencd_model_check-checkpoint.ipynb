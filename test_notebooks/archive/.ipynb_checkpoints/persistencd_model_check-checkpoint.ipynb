{
 "cells": [
  {
   "cell_type": "code",
   "execution_count": 1,
   "metadata": {},
   "outputs": [],
   "source": [
    "import pandas as pd\n",
    "import numpy as np\n",
    "from random import seed\n",
    "from random import random\n",
    "from statsmodels.tsa.holtwinters import SimpleExpSmoothing, Holt, ExponentialSmoothing\n",
    "\n",
    "import accuarcy_func as af\n",
    "%matplotlib inline"
   ]
  },
  {
   "cell_type": "code",
   "execution_count": 2,
   "metadata": {},
   "outputs": [],
   "source": [
    "# generate the random walk\n",
    "seed(1)\n",
    "random_walk = list()\n",
    "random_walk.append(-1 if random() < 0.5 else 1)\n",
    "for i in range(1, 1000):\n",
    "\tmovement = -1 if random() < 0.5 else 1\n",
    "\tvalue = random_walk[i-1] + movement\n",
    "\trandom_walk.append(value)\n",
    "# prepare dataset\n",
    "train_size = int(len(random_walk) * 0.78)\n",
    "train, test = random_walk[0:train_size], random_walk[train_size:]\n"
   ]
  },
  {
   "cell_type": "code",
   "execution_count": 3,
   "metadata": {},
   "outputs": [
    {
     "data": {
      "image/png": "[encoded data removed]",
      "text/plain": [
       "<Figure size 432x288 with 1 Axes>"
      ]
     },
     "metadata": {
      "needs_background": "light"
     },
     "output_type": "display_data"
    }
   ],
   "source": [
    "import matplotlib.pyplot as plt\n",
    "plt.plot(train)\n",
    "plt.ylabel('some numbers')\n",
    "plt.show()\n"
   ]
  },
  {
   "cell_type": "markdown",
   "metadata": {},
   "source": [
    "## Persistence model Traingin"
   ]
  },
  {
   "cell_type": "code",
   "execution_count": 4,
   "metadata": {},
   "outputs": [],
   "source": [
    "predictions = list()\n",
    "def pers_model(train,test):\n",
    "    \n",
    "    \n",
    "    history = train[-1]\n",
    "    \n",
    "    for i in range(len(test)):\n",
    "        yhat = history\n",
    "        predictions.append(yhat)\n",
    "        history = test[i]\n",
    "    \n",
    "    return predictions"
   ]
  },
  {
   "cell_type": "code",
   "execution_count": 5,
   "metadata": {},
   "outputs": [
    {
     "data": {
      "text/plain": [
       "[24,\n",
       " 23,\n",
       " 22,\n",
       " 21,\n",
       " 22,\n",
       " 23,\n",
       " 24,\n",
       " 23,\n",
       " 24,\n",
       " 23,\n",
       " 22,\n",
       " 21,\n",
       " 22,\n",
       " 21,\n",
       " 22,\n",
       " 23,\n",
       " 24,\n",
       " 25,\n",
       " 26,\n",
       " 27,\n",
       " 28,\n",
       " 27,\n",
       " 28,\n",
       " 29,\n",
       " 30,\n",
       " 31,\n",
       " 32,\n",
       " 33,\n",
       " 32,\n",
       " 33,\n",
       " 34,\n",
       " 33,\n",
       " 32,\n",
       " 33,\n",
       " 34,\n",
       " 33,\n",
       " 32,\n",
       " 33,\n",
       " 34,\n",
       " 35,\n",
       " 34,\n",
       " 33,\n",
       " 34,\n",
       " 33,\n",
       " 32,\n",
       " 33,\n",
       " 32,\n",
       " 31,\n",
       " 30,\n",
       " 31,\n",
       " 32,\n",
       " 31,\n",
       " 30,\n",
       " 31,\n",
       " 32,\n",
       " 31,\n",
       " 32,\n",
       " 31,\n",
       " 30,\n",
       " 31,\n",
       " 32,\n",
       " 31,\n",
       " 32,\n",
       " 33,\n",
       " 34,\n",
       " 35,\n",
       " 34,\n",
       " 35,\n",
       " 36,\n",
       " 37,\n",
       " 38,\n",
       " 39,\n",
       " 40,\n",
       " 41,\n",
       " 40,\n",
       " 39,\n",
       " 40,\n",
       " 41,\n",
       " 42,\n",
       " 41,\n",
       " 40,\n",
       " 41,\n",
       " 42,\n",
       " 43,\n",
       " 42,\n",
       " 43,\n",
       " 42,\n",
       " 41,\n",
       " 40,\n",
       " 41,\n",
       " 40,\n",
       " 39,\n",
       " 38,\n",
       " 39,\n",
       " 40,\n",
       " 41,\n",
       " 42,\n",
       " 43,\n",
       " 44,\n",
       " 45,\n",
       " 46,\n",
       " 47,\n",
       " 48,\n",
       " 47,\n",
       " 48,\n",
       " 47,\n",
       " 46,\n",
       " 47,\n",
       " 48,\n",
       " 49,\n",
       " 50,\n",
       " 49,\n",
       " 50,\n",
       " 51,\n",
       " 52,\n",
       " 53,\n",
       " 52,\n",
       " 51,\n",
       " 52,\n",
       " 53,\n",
       " 54,\n",
       " 55,\n",
       " 56,\n",
       " 57,\n",
       " 56,\n",
       " 55,\n",
       " 56,\n",
       " 55,\n",
       " 56,\n",
       " 55,\n",
       " 54,\n",
       " 53,\n",
       " 52,\n",
       " 51,\n",
       " 50,\n",
       " 49,\n",
       " 48,\n",
       " 47,\n",
       " 48,\n",
       " 49,\n",
       " 48,\n",
       " 49,\n",
       " 48,\n",
       " 49,\n",
       " 50,\n",
       " 51,\n",
       " 50,\n",
       " 51,\n",
       " 50,\n",
       " 51,\n",
       " 50,\n",
       " 51,\n",
       " 52,\n",
       " 51,\n",
       " 50,\n",
       " 51,\n",
       " 50,\n",
       " 49,\n",
       " 48,\n",
       " 47,\n",
       " 48,\n",
       " 47,\n",
       " 48,\n",
       " 49,\n",
       " 48,\n",
       " 49,\n",
       " 50,\n",
       " 51,\n",
       " 52,\n",
       " 51,\n",
       " 52,\n",
       " 53,\n",
       " 52,\n",
       " 53,\n",
       " 52,\n",
       " 53,\n",
       " 52,\n",
       " 51,\n",
       " 50,\n",
       " 49,\n",
       " 50,\n",
       " 51,\n",
       " 52,\n",
       " 53,\n",
       " 52,\n",
       " 51,\n",
       " 52,\n",
       " 51,\n",
       " 52,\n",
       " 53,\n",
       " 52,\n",
       " 53,\n",
       " 52,\n",
       " 51,\n",
       " 52,\n",
       " 51,\n",
       " 52,\n",
       " 51,\n",
       " 52,\n",
       " 53,\n",
       " 52,\n",
       " 51,\n",
       " 52,\n",
       " 53,\n",
       " 52,\n",
       " 53,\n",
       " 52,\n",
       " 51,\n",
       " 50,\n",
       " 51,\n",
       " 52,\n",
       " 53,\n",
       " 54,\n",
       " 53,\n",
       " 54,\n",
       " 53,\n",
       " 54,\n",
       " 55,\n",
       " 54,\n",
       " 53]"
      ]
     },
     "execution_count": 5,
     "metadata": {},
     "output_type": "execute_result"
    }
   ],
   "source": [
    "pers_model(train,test)"
   ]
  },
  {
   "cell_type": "code",
   "execution_count": 6,
   "metadata": {},
   "outputs": [
    {
     "name": "stdout",
     "output_type": "stream",
     "text": [
      "MAPE:  2.49675525641358\n",
      "MAE:  1.0\n",
      "MSE:  1.0\n",
      "RMSE:  1.0\n"
     ]
    }
   ],
   "source": [
    "ac = af.accuracy_measures(test,predictions)\n",
    "mape = ac.MAPE()\n",
    "mae = ac.MAE()\n",
    "mse = ac.MSE()\n",
    "rmse = ac.RMSE()\n",
    "\n",
    "print('MAPE:  ' + str(mape),\n",
    "      'MAE:  ' + str(mae),\n",
    "      'MSE:  ' + str(mse),\n",
    "      'RMSE:  ' + str(rmse),\n",
    "      sep='\\n')"
   ]
  },
  {
   "cell_type": "markdown",
   "metadata": {},
   "source": [
    "## ES Moving"
   ]
  },
  {
   "cell_type": "code",
   "execution_count": 8,
   "metadata": {},
   "outputs": [
    {
     "name": "stdout",
     "output_type": "stream",
     "text": [
      "MAPE:  41.078335834678356\n",
      "MAE:  19.236363636363638\n",
      "MSE:  464.42727272727274\n",
      "RMSE:  21.550574765589726\n"
     ]
    }
   ],
   "source": [
    "# create class\n",
    "model = SimpleExpSmoothing(train)\n",
    "# fit model\n",
    "model_fit = model.fit()\n",
    "# make predictions\n",
    "yhat = model_fit.predict(start = len(train), end = len(random_walk)-1)\n",
    "#accuarcy class\n",
    "ac = af.accuracy_measures(test,yhat)\n",
    "mape = ac.MAPE()\n",
    "mae = ac.MAE()\n",
    "mse = ac.MSE()\n",
    "rmse = ac.RMSE()\n",
    "\n",
    "print('MAPE:  ' + str(mape),\n",
    "      'MAE:  ' + str(mae),\n",
    "      'MSE:  ' + str(mse),\n",
    "      'RMSE:  ' + str(rmse),\n",
    "      sep='\\n')"
   ]
  },
  {
   "cell_type": "markdown",
   "metadata": {},
   "source": [
    "## Holt's Smoothing (ES smoothing plus trend parameter)"
   ]
  },
  {
   "cell_type": "code",
   "execution_count": 12,
   "metadata": {},
   "outputs": [],
   "source": [
    "# create class\n",
    "model = Holt(train, exponential = False, damped = False)\n",
    "# fit model\n",
    "model_fit = model.fit()\n",
    "# make predictions\n",
    "yhat = model_fit.predict(start = len(train), end = len(random_walk)-1)\n",
    "\n",
    "ac = af.accuracy_measures(test,yhat)\n",
    "mape = ac.MAPE()\n",
    "mae = ac.MAE()\n",
    "mse = ac.MSE()\n",
    "rmse = ac.RMSE()\n",
    "\n",
    "print('MAPE:  ' + str(mape),\n",
    "      'MAE:  ' + str(mae),\n",
    "      'MSE:  ' + str(mse),\n",
    "      'RMSE:  ' + str(rmse),\n",
    "      sep='\\n')"
   ]
  },
  {
   "cell_type": "markdown",
   "metadata": {},
   "source": [
    "## Holt Winters Exponential Smoothing (ES smoothing plus trend and seasonality parameters)"
   ]
  },
  {
   "cell_type": "code",
   "execution_count": null,
   "metadata": {},
   "outputs": [],
   "source": [
    "# create class\n",
    "model = ExponentialSmoothing(train, trend = , damped = False, seasonal = , seasonal_periods = )\n",
    "# fit model\n",
    "model_fit = model.fit()\n",
    "# make predictions\n",
    "yhat = model_fit.predict(start = len(train), end = len(random_walk)-1)\n",
    "\n",
    "ac = af.accuracy_measures(test,yhat)\n",
    "mape = ac.MAPE()\n",
    "mae = ac.MAE()\n",
    "mse = ac.MSE()\n",
    "rmse = ac.RMSE()\n",
    "\n",
    "print('MAPE:  ' + str(mape),\n",
    "      'MAE:  ' + str(mae),\n",
    "      'MSE:  ' + str(mse),\n",
    "      'RMSE:  ' + str(rmse),\n",
    "      sep='\\n')"
   ]
  },
  {
   "cell_type": "markdown",
   "metadata": {},
   "source": [
    "# Vizualise ES predictions"
   ]
  },
  {
   "cell_type": "code",
   "execution_count": 14,
   "metadata": {},
   "outputs": [],
   "source": [
    "# Predictions & hold out period data frame\n",
    "df = pd.DataFrame()\n",
    "df['true'] = pd.Series(test)\n",
    "df['predictions'] = pd.Series(yhat)\n",
    "df['index'] = range(len(train),len(random_walk))\n",
    "\n",
    "#training dataframe\n",
    "df_t = pd.DataFrame()\n",
    "df_t['training'] = pd.Series(train)\n",
    "df_t['index'] = df_t.index"
   ]
  },
  {
   "cell_type": "code",
   "execution_count": 15,
   "metadata": {},
   "outputs": [
    {
     "data": {
      "text/plain": [
       "[<matplotlib.lines.Line2D at 0x1a219ce438>]"
      ]
     },
     "execution_count": 15,
     "metadata": {},
     "output_type": "execute_result"
    },
    {
     "data": {
      "image/png": "[encoded data removed]",
      "text/plain": [
       "<Figure size 432x288 with 1 Axes>"
      ]
     },
     "metadata": {
      "needs_background": "light"
     },
     "output_type": "display_data"
    }
   ],
   "source": [
    "plt.plot('index','true',data=df)\n",
    "plt.plot('index','predictions',data=df)\n",
    "plt.plot('index','training',data=df_t)"
   ]
  },
  {
   "cell_type": "code",
   "execution_count": null,
   "metadata": {},
   "outputs": [],
   "source": [
    "df.index = df.index(start = 780, stop = 1000, step = 1)"
   ]
  },
  {
   "cell_type": "code",
   "execution_count": null,
   "metadata": {},
   "outputs": [],
   "source": [
    "len(test)"
   ]
  },
  {
   "cell_type": "code",
   "execution_count": null,
   "metadata": {},
   "outputs": [],
   "source": [
    "plt.plot( 'x', 'y1', data=df, marker='o', markerfacecolor='blue', markersize=12, color='skyblue', linewidth=4)\n",
    "plt.plot( 'x', 'y2', data=df, marker='', color='olive', linewidth=2)\n",
    "plt.plot( 'x', 'y3', data=df, marker='', color='olive', linewidth=2, linestyle='dashed', label=\"toto\")\n",
    "plt.legend()\n"
   ]
  },
  {
   "cell_type": "code",
   "execution_count": null,
   "metadata": {},
   "outputs": [],
   "source": []
  }
 ],
 "metadata": {
  "kernelspec": {
   "display_name": "Python 3",
   "language": "python",
   "name": "python3"
  },
  "language_info": {
   "codemirror_mode": {
    "name": "ipython",
    "version": 3
   },
   "file_extension": ".py",
   "mimetype": "text/x-python",
   "name": "python",
   "nbconvert_exporter": "python",
   "pygments_lexer": "ipython3",
   "version": "3.7.1"
  }
 },
 "nbformat": 4,
 "nbformat_minor": 2
}
